{
 "cells": [
  {
   "cell_type": "markdown",
   "id": "0",
   "metadata": {},
   "source": [
    "# Lab 1\n",
    "\n",
    "[![Open In Colab](https://colab.research.google.com/assets/colab-badge.svg)](https://colab.research.google.com/github/giswqs/geog-312/blob/main/book/labs/lab_01.ipynb)"
   ]
  },
  {
   "cell_type": "markdown",
   "id": "1",
   "metadata": {},
   "source": [
    "## Exercise 1: Variable Assignment and Basic Operations\n",
    "\n",
    "Create variables to store the following geospatial data:\n",
    "\n",
    "- The latitude and longitude of New York City: 40.7128, -74.0060.\n",
    "- The population of New York City: 8,336,817.\n",
    "- The area of New York City in square kilometers: 783.8.\n",
    "\n",
    "Perform the following tasks:\n",
    "\n",
    "1. Calculate and print the population density of New York City (population per square kilometer).\n",
    "2. Print the coordinates in the format \"Latitude: [latitude], Longitude: [longitude]\"."
   ]
  },
  {
   "cell_type": "code",
   "execution_count": 1,
   "id": "2",
   "metadata": {},
   "outputs": [
    {
     "name": "stdout",
     "output_type": "stream",
     "text": [
      "New York City is located at \"Latitude: [40.7128], Longitude: [-74.006]\" and has a population of 8336817 people.\n",
      "The area of New York City is 783.8 square kilometers.\n",
      "The population density of New York City is 10636.408522582293 people per square kilometer.\n"
     ]
    }
   ],
   "source": [
    "latitude = 40.7128\n",
    "longitude = -74.0060\n",
    "city = \"New York City\"\n",
    "area = 783.8\n",
    "population = 8_336_817\n",
    "print(f\"{city} is located at \\\"Latitude: [{latitude}], Longitude: [{longitude}]\\\" and has a population of {population} people.\")\n",
    "print(f\"The area of {city} is {area} square kilometers.\")\n",
    "population_density = population / area\n",
    "print(f\"The population density of {city} is {population_density} people per square kilometer.\")"
   ]
  },
  {
   "cell_type": "markdown",
   "id": "3",
   "metadata": {},
   "source": [
    "## Exercise 2: Working with Strings\n",
    "\n",
    "Create a string variable to store the name of a city, such as \"San Francisco\". Perform the following operations:\n",
    "\n",
    "1. Convert the string to lowercase and print the result.\n",
    "2. Convert the string to uppercase and print the result.\n",
    "3. Replace \"San\" with \"Los\" in the city name and print the new string."
   ]
  },
  {
   "cell_type": "code",
   "execution_count": 2,
   "id": "4",
   "metadata": {},
   "outputs": [
    {
     "name": "stdout",
     "output_type": "stream",
     "text": [
      "san francisco\n",
      "SAN FRANCISCO\n"
     ]
    },
    {
     "data": {
      "text/plain": [
       "'Los Francisco'"
      ]
     },
     "execution_count": 2,
     "metadata": {},
     "output_type": "execute_result"
    }
   ],
   "source": [
    "city = \"San Francisco\"\n",
    "\n",
    "lowercase_city = city.lower()\n",
    "print(lowercase_city)\n",
    "\n",
    "uppercase_city = city.upper()\n",
    "print(uppercase_city)\n",
    "\n",
    "# Replace \"San\" with \"Los\" in the city name and print the new string.\n",
    "\n",
    "new_city = city.replace(\"San\", \"Los\")\n",
    "new_city"
   ]
  },
  {
   "cell_type": "markdown",
   "id": "5",
   "metadata": {},
   "source": [
    "## Exercise 3: Using Lists\n",
    "\n",
    "Create a list of tuples, where each tuple contains the name of a city and its corresponding latitude and longitude:\n",
    "\n",
    "- New York City: (40.7128, -74.0060)\n",
    "- Los Angeles: (34.0522, -118.2437)\n",
    "- Chicago: (41.8781, -87.6298)\n",
    "\n",
    "Perform the following tasks:\n",
    "\n",
    "1. Add a new city (e.g., Miami: (25.7617, -80.1918)) to the list.\n",
    "2. Print the entire list of cities.\n",
    "3. Slice the list to print only the first two cities."
   ]
  },
  {
   "cell_type": "code",
   "execution_count": 3,
   "id": "6",
   "metadata": {},
   "outputs": [
    {
     "name": "stdout",
     "output_type": "stream",
     "text": [
      "[('New York City', (40.7128, -74.006)), ('Los Angeles', (34.0522, -118.2437)), ('Chicago', (41.8781, -87.6298))]\n",
      "[('New York City', (40.7128, -74.006)), ('Los Angeles', (34.0522, -118.2437)), ('Chicago', (41.8781, -87.6298)), ('Miami', (25.7617, -80.1918))]\n",
      "['New York City', 'Los Angeles', 'Chicago', 'Miami']\n",
      "['New York City', 'Los Angeles']\n"
     ]
    }
   ],
   "source": [
    "# Create a list of tuples\n",
    "cities = [(\"New York City\", (40.7128, -74.0060)), (\"Los Angeles\", (34.0522, -118.2437)), (\"Chicago\", (41.8781, -87.6298))]\n",
    "print(cities)\n",
    "\n",
    "# Add a new city\n",
    "cities.append((\"Miami\", (25.7617, -80.1918)))\n",
    "print(cities)\n",
    "\n",
    "# Print the entire list of cities.\n",
    "city_names = [city[0] for city in cities]\n",
    "print(city_names)\n",
    "\n",
    "# Slice the list to print only the first two cities.\n",
    "print(city_names[:2])"
   ]
  },
  {
   "cell_type": "markdown",
   "id": "7",
   "metadata": {},
   "source": [
    "## Exercise 4: Using Tuples\n",
    "\n",
    "Create a tuple to store the coordinates (latitude, longitude) of the Eiffel Tower: (48.8584, 2.2945). Perform the following tasks:\n",
    "\n",
    "1. Access and print the latitude and longitude values from the tuple.\n",
    "2. Try to change the latitude value to 48.8585. What happens? Explain why."
   ]
  },
  {
   "cell_type": "code",
   "execution_count": 4,
   "id": "8",
   "metadata": {},
   "outputs": [
    {
     "name": "stdout",
     "output_type": "stream",
     "text": [
      "Latitude: 48.8584, Longitude: 2.2945\n"
     ]
    }
   ],
   "source": [
    "eiffel_tower = (48.8584, 2.2945)\n",
    "latitude, longitude = eiffel_tower\n",
    "print(f\"Latitude: {latitude}, Longitude: {longitude}\")\n"
   ]
  },
  {
   "cell_type": "markdown",
   "id": "293818c6",
   "metadata": {},
   "source": [
    "#### eiffel_tower[0] = 47\n",
    "\n",
    "#### The code raised a TypeError because tuples are immutable and cannot be changed after they are created."
   ]
  },
  {
   "cell_type": "markdown",
   "id": "9",
   "metadata": {},
   "source": [
    "## Exercise 5: Working with Sets\n",
    "\n",
    "Create a set of countries you have visited, such as {\"USA\", \"France\", \"Germany\"}. Perform the following tasks:\n",
    "\n",
    "1. Add a new country to the set.\n",
    "2. Try to add the same country again. What happens?\n",
    "3. Print the updated set."
   ]
  },
  {
   "cell_type": "code",
   "execution_count": 5,
   "id": "10",
   "metadata": {},
   "outputs": [
    {
     "data": {
      "text/plain": [
       "{'France', 'Germany', 'Spain', 'USA'}"
      ]
     },
     "execution_count": 5,
     "metadata": {},
     "output_type": "execute_result"
    }
   ],
   "source": [
    "countries = {\"USA\", \"France\", \"Germany\"}\n",
    "countries.add(\"Spain\")\n",
    "countries"
   ]
  },
  {
   "cell_type": "code",
   "execution_count": 6,
   "id": "5045bcec",
   "metadata": {},
   "outputs": [
    {
     "data": {
      "text/plain": [
       "{'France', 'Germany', 'Spain', 'USA'}"
      ]
     },
     "execution_count": 6,
     "metadata": {},
     "output_type": "execute_result"
    }
   ],
   "source": [
    "# Try to add the same country again. What happens?\n",
    "countries.add(\"Spain\")\n",
    "countries"
   ]
  },
  {
   "cell_type": "markdown",
   "id": "50962cff",
   "metadata": {},
   "source": [
    "* The set did not change because sets do not allow duplicate elements."
   ]
  },
  {
   "cell_type": "markdown",
   "id": "11",
   "metadata": {},
   "source": [
    "## Exercise 6: Working with Dictionaries\n",
    "\n",
    "Create a dictionary to store information about a specific geospatial feature, such as a river:\n",
    "\n",
    "- Name: \"Amazon River\"\n",
    "- Length: 6400 km\n",
    "- Countries: [\"Brazil\", \"Peru\", \"Colombia\"]\n",
    "\n",
    "Perform the following tasks:\n",
    "\n",
    "1. Add a new key-value pair to the dictionary to store the river's average discharge (e.g., 209,000 m³/s).\n",
    "2. Update the length of the river to 6992 km.\n",
    "3. Print the dictionary."
   ]
  },
  {
   "cell_type": "code",
   "execution_count": 7,
   "id": "12",
   "metadata": {},
   "outputs": [
    {
     "name": "stdout",
     "output_type": "stream",
     "text": [
      "{'Name': 'Amazon River', 'Length': 6992, 'Countries': ['Brazil', 'Peru', 'Colombia'], 'Average Discharge': 209000}\n"
     ]
    }
   ],
   "source": [
    "# Create the dictionary\n",
    "river_info = {\n",
    "    \"Name\": \"Amazon River\",\n",
    "    \"Length\": 6400,  # in km\n",
    "    \"Countries\": [\"Brazil\", \"Peru\", \"Colombia\"]\n",
    "}\n",
    "\n",
    "# Add a new key-value pair for average discharge\n",
    "river_info[\"Average Discharge\"] = 209000  # in m³/s\n",
    "\n",
    "# Update the length of the river\n",
    "river_info[\"Length\"] = 6992  # updated length in km\n",
    "\n",
    "# Print the dictionary\n",
    "print(river_info)"
   ]
  },
  {
   "cell_type": "markdown",
   "id": "13",
   "metadata": {},
   "source": [
    "## Exercise 7: Nested Data Structures\n",
    "\n",
    "Create a dictionary to represent a city that contains the city's name, population, and coordinates (latitude, longitude):\n",
    "\n",
    "- Name: \"Tokyo\"\n",
    "- Population: 13,515,271\n",
    "- Coordinates: (35.6895, 139.6917)\n",
    "\n",
    "Perform the following tasks:\n",
    "\n",
    "1. Access and print the population of the city.\n",
    "2. Access and print the city's latitude.\n",
    "3. Update the population to 14,000,000 and print the updated dictionary."
   ]
  },
  {
   "cell_type": "code",
   "execution_count": 8,
   "id": "14",
   "metadata": {},
   "outputs": [
    {
     "name": "stdout",
     "output_type": "stream",
     "text": [
      "Population: 13515271\n",
      "Latitude: 35.6895\n",
      "Updated City Info: {'Name': 'Tokyo', 'Population': 14000000, 'Coordinates': (35.6895, 139.6917)}\n"
     ]
    }
   ],
   "source": [
    "# Create the dictionary\n",
    "city_info = {\n",
    "    \"Name\": \"Tokyo\",\n",
    "    \"Population\": 13515271,\n",
    "    \"Coordinates\": (35.6895, 139.6917)\n",
    "}\n",
    "\n",
    "# Access and print the population of the city\n",
    "print(\"Population:\", city_info[\"Population\"])\n",
    "\n",
    "# Access and print the city's latitude\n",
    "print(\"Latitude:\", city_info[\"Coordinates\"][0])\n",
    "\n",
    "# Update the population and print the updated dictionary\n",
    "city_info[\"Population\"] = 14000000\n",
    "print(\"Updated City Info:\", city_info)"
   ]
  },
  {
   "cell_type": "markdown",
   "id": "15",
   "metadata": {},
   "source": [
    "## Exercise 8: List Operations\n",
    "\n",
    "Given the list of cities from Exercise 3, perform the following operations:\n",
    "\n",
    "1. Sort the list of cities alphabetically by name.\n",
    "2. Create a new list that contains only the city names.\n",
    "3. Remove the last city from the original list and print the updated list."
   ]
  },
  {
   "cell_type": "code",
   "execution_count": 9,
   "id": "16",
   "metadata": {},
   "outputs": [
    {
     "name": "stdout",
     "output_type": "stream",
     "text": [
      "Sorted Cities: [('Chicago', (41.8781, -87.6298)), ('Los Angeles', (34.0522, -118.2437)), ('Miami', (25.7617, -80.1918)), ('New York City', (40.7128, -74.006))]\n",
      "City Names: ['Chicago', 'Los Angeles', 'Miami', 'New York City']\n",
      "Updated Cities List: [('Chicago', (41.8781, -87.6298)), ('Los Angeles', (34.0522, -118.2437)), ('Miami', (25.7617, -80.1918))]\n"
     ]
    }
   ],
   "source": [
    "# Given list of cities from Exercise 3\n",
    "cities = [\n",
    "    (\"New York City\", (40.7128, -74.0060)),\n",
    "    (\"Los Angeles\", (34.0522, -118.2437)),\n",
    "    (\"Chicago\", (41.8781, -87.6298)),\n",
    "    (\"Miami\", (25.7617, -80.1918))\n",
    "]\n",
    "\n",
    "# Sort the list of cities alphabetically by name\n",
    "cities.sort(key=lambda city: city[0])\n",
    "print(\"Sorted Cities:\", cities)\n",
    "\n",
    "# Create a new list that contains only the city names\n",
    "city_names = [city[0] for city in cities]\n",
    "print(\"City Names:\", city_names)\n",
    "\n",
    "# Remove the last city from the original list and print the updated list\n",
    "cities.pop()\n",
    "print(\"Updated Cities List:\", cities)"
   ]
  },
  {
   "cell_type": "markdown",
   "id": "17",
   "metadata": {},
   "source": [
    "## Exercise 9: Dictionary Operations\n",
    "\n",
    "Using the dictionary from Exercise 6, perform the following tasks:\n",
    "\n",
    "1. Check if the key \"Length\" exists in the dictionary.\n",
    "2. Print all the keys in the dictionary.\n",
    "3. Print all the values in the dictionary."
   ]
  },
  {
   "cell_type": "code",
   "execution_count": 10,
   "id": "18",
   "metadata": {},
   "outputs": [
    {
     "name": "stdout",
     "output_type": "stream",
     "text": [
      "The key 'Length' exists in the dictionary.\n",
      "Keys: dict_keys(['Name', 'Length', 'Countries', 'Average Discharge'])\n",
      "Values: dict_values(['Amazon River', 6400, ['Brazil', 'Peru', 'Colombia'], 209000])\n"
     ]
    }
   ],
   "source": [
    "# Given dictionary from Exercise 6\n",
    "river_info = {\n",
    "    \"Name\": \"Amazon River\",\n",
    "    \"Length\": 6400,  # updated length in km\n",
    "    \"Countries\": [\"Brazil\", \"Peru\", \"Colombia\"],\n",
    "    \"Average Discharge\": 209000  # in m³/s\n",
    "}\n",
    "\n",
    "# Check if the key \"Length\" exists in the dictionary\n",
    "if \"Length\" in river_info:\n",
    "    print(\"The key 'Length' exists in the dictionary.\")\n",
    "\n",
    "# Print all the keys in the dictionary\n",
    "print(\"Keys:\", river_info.keys())\n",
    "\n",
    "# Print all the values in the dictionary\n",
    "print(\"Values:\", river_info.values())"
   ]
  },
  {
   "cell_type": "markdown",
   "id": "19",
   "metadata": {},
   "source": [
    "## Exercise 10: Practical Application\n",
    "\n",
    "Imagine you have a list of tuples, each representing a location with its name, latitude, and longitude:"
   ]
  },
  {
   "cell_type": "code",
   "execution_count": 11,
   "id": "20",
   "metadata": {},
   "outputs": [],
   "source": [
    "locations = [\n",
    "    (\"Mount Everest\", 27.9881, 86.9250),\n",
    "    (\"K2\", 35.8808, 76.5155),\n",
    "    (\"Kangchenjunga\", 27.7025, 88.1475),\n",
    "]"
   ]
  },
  {
   "cell_type": "markdown",
   "id": "21",
   "metadata": {},
   "source": [
    "Perform the following tasks:\n",
    "\n",
    "1. Create a new list that contains only the names of the locations.\n",
    "2. Create a dictionary where the keys are location names and the values are tuples of their coordinates.\n",
    "3. Print the latitude of \"K2\" using the dictionary."
   ]
  },
  {
   "cell_type": "code",
   "execution_count": 12,
   "id": "22",
   "metadata": {},
   "outputs": [
    {
     "name": "stdout",
     "output_type": "stream",
     "text": [
      "['Mount Everest', 'K2', 'Kangchenjunga']\n",
      "{'Mount Everest': (27.9881, 86.925), 'K2': (35.8808, 76.5155), 'Kangchenjunga': (27.7025, 88.1475)}\n",
      "Latitude of K2: 35.8808\n"
     ]
    }
   ],
   "source": [
    "# Create a list of location names\n",
    "location_names = [location[0] for location in locations]\n",
    "print(location_names)\n",
    "\n",
    "# Create a dictionary with location names as keys and latitude and longitude as values\n",
    "coordinates = {location[0]: (location[1], location[2]) for location in locations}\n",
    "print(coordinates)\n",
    "\n",
    "# Print the latitude of \"K2\" using the dictionary\n",
    "print(\"Latitude of K2:\", coordinates[\"K2\"][0])\n",
    "\n"
   ]
  }
 ],
 "metadata": {
  "kernelspec": {
   "display_name": "geo",
   "language": "python",
   "name": "python3"
  },
  "language_info": {
   "codemirror_mode": {
    "name": "ipython",
    "version": 3
   },
   "file_extension": ".py",
   "mimetype": "text/x-python",
   "name": "python",
   "nbconvert_exporter": "python",
   "pygments_lexer": "ipython3",
   "version": "3.11.10"
  }
 },
 "nbformat": 4,
 "nbformat_minor": 5
}
